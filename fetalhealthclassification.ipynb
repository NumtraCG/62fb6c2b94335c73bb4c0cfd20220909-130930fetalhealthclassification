{
 "cells": [
  {
   "cell_type": "markdown",
   "metadata": {},
   "source": [
    "***GENERATED CODE FOR fetalhealthclassification PIPELINE.***"
   ]
  },
  {
   "cell_type": "markdown",
   "metadata": {},
   "source": [
    "***DON'T EDIT THIS CODE.***"
   ]
  },
  {
   "cell_type": "markdown",
   "metadata": {},
   "source": [
    "***CONNECTOR FUNCTIONS TO READ DATA.***"
   ]
  },
  {
   "cell_type": "code",
   "execution_count": null,
   "metadata": {},
   "outputs": [],
   "source": [
    "from hdfs3 import HDFileSystem\n",
    "import datetime\n",
    "import logging\n",
    "import warnings\n",
    "warnings.filterwarnings('ignore')\n",
    "logging.basicConfig(format='%(levelname)s:%(message)s', level=logging.INFO)\n",
    "\n",
    "\n",
    "class HDFSConnector:\n",
    "\n",
    "    def fetch(spark, config):\n",
    "        ################### INPUT HADOOP HOST PORT TO CONNECT WITH ###############################\n",
    "        hdfs = HDFileSystem(\n",
    "            host=eval(config)['host'], port=eval(config)['port'])\n",
    "        with hdfs.open(eval(config)['url']) as f:\n",
    "            df = pd.read_csv(f, error_bad_lines=False)\n",
    "        df = spark.createDataFrame(dfPd)\n",
    "        display(df.limit(2).toPandas())\n",
    "        return df\n",
    "\n",
    "    def put(df, spark, config):\n",
    "        return df.write.format('csv').options(header='true' if eval(config)[\"is_header\"] == \"Use Header Line\" else 'false',\n",
    "                                              delimiter=eval(config)[\"delimiter\"]).save((\"%s %s\") % (datetime.datetime.now().strftime(\"%Y-%m-%d %H.%M.%S\")+\"_\", eval(config)['url']))\n"
   ]
  },
  {
   "cell_type": "markdown",
   "metadata": {},
   "source": [
    "***TRANSFORMATIONS FUNCTIONS THAT WILL BE APPLIED ON DATA***"
   ]
  },
  {
   "cell_type": "code",
   "execution_count": null,
   "metadata": {},
   "outputs": [],
   "source": [
    "import json\n",
    "from pyspark.sql.functions import col, when\n",
    "from pyspark.sql.functions import mean, stddev, min, max, col\n",
    "\n",
    "\n",
    "class CleanseData:\n",
    "    # def __init__(self,df):\n",
    "    #     #print()\n",
    "\n",
    "    def replaceByMean(self, feature, df, mean_=-1):\n",
    "\n",
    "        meanValue = df.select(mean(col(feature.name)).alias(\n",
    "            'mean')).collect()[0][\"mean\"]\n",
    "        df.fillna(meanValue, subset=[feature.name])\n",
    "        df.withColumn(feature.name, when(col(feature.name) == \" \",\n",
    "                                         meanValue).otherwise(col(feature.name).cast(\"Integer\")))\n",
    "        return df\n",
    "\n",
    "    def replaceByMax(self, feature, df, max_=-1):\n",
    "        maxValue = df.select(max(col(feature.name)).alias('max')).collect()[\n",
    "            0][\"max\"]\n",
    "        df.fillna(maxValue, subset=[feature.name])\n",
    "        df = df.withColumn(feature.name,\n",
    "                           when(col(feature.name) == \" \", maxValue).otherwise(col(feature.name)))\n",
    "        return df\n",
    "\n",
    "    def replaceByMin(self, feature, df, min_=-1):\n",
    "        minValue = df.select(min(col(feature.name)).alias('min')).collect()[\n",
    "            0][\"min\"]\n",
    "        df.fillna(minValue, subset=[feature.name])\n",
    "        df = df.withColumn(feature.name,\n",
    "                           when(col(feature.name) == \" \", minValue).otherwise(col(feature.name)))\n",
    "        return df\n",
    "\n",
    "    def replaceByStandardDeviation(self, feature, df, stddev_=-1):\n",
    "        stddevValue = df.select(stddev(col(feature.name)).alias(\n",
    "            'stddev')).collect()[0][\"stddev\"]\n",
    "        df.fillna(stddevValue, subset=[feature.name])\n",
    "        df = df.withColumn(feature.name,\n",
    "                           when(col(feature.name) == \" \", stddevValue).otherwise(col(feature.name)))\n",
    "        return df\n",
    "\n",
    "    def replaceDateRandomly(self, feature, df):\n",
    "        fillValue = df.where(col(feature.name).isNotNull()\n",
    "                             ).head(1)[0][feature.name]\n",
    "        df.fillna(str(fillValue), subset=[feature.name])\n",
    "        df = df.withColumn(feature.name,\n",
    "                           when(col(feature.name) == \" \", fillValue).otherwise(col(feature.name)))\n",
    "        # print(\"CleanseData:replaceDateRandomly Schema : \", df.#printSchema())\n",
    "        return df\n",
    "\n",
    "    def replaceNullValues(self, fList, df):\n",
    "        featuresList = df.schema.fields\n",
    "        for featureObj in fList:\n",
    "            for feat in featuresList:\n",
    "                if featureObj[\"feature\"] in feat.name:\n",
    "                    featureName = feat\n",
    "                    if \"mean\" in featureObj[\"replaceby\"]:\n",
    "                        df = self.replaceByMean(featureName, df)\n",
    "                    elif \"max\" in featureObj[\"replaceby\"]:\n",
    "                        df = self.replaceByMax(featureName, df)\n",
    "                    elif \"min\" in featureObj[\"replaceby\"]:\n",
    "                        df = self.replaceByMin(featureName, df)\n",
    "                    elif \"stddev\" in featureObj[\"replaceby\"]:\n",
    "                        df = self.replaceByStandardDeviation(featureName, df)\n",
    "                    elif \"random\" in featureObj[\"replaceby\"]:\n",
    "                        df = self.replaceDateRandomly(featureName, df)\n",
    "        return df\n",
    "\n",
    "\n",
    "class TransformationMain:\n",
    "    # TODO: change df argument in run with following\n",
    "    def run(transformationDF, config):\n",
    "        configObj = json.loads(config)\n",
    "        featureData = configObj[\"FE\"]\n",
    "        transformationDF = CleanseData().replaceNullValues(featureData, transformationDF)\n",
    "        display(transformationDF.limit(2).toPandas())\n",
    "        return transformationDF\n"
   ]
  },
  {
   "cell_type": "markdown",
   "metadata": {},
   "source": [
    "***AUTOML FUNCTIONS***"
   ]
  },
  {
   "cell_type": "code",
   "execution_count": null,
   "metadata": {},
   "outputs": [],
   "source": [
    "from tpot import TPOTClassifier\n",
    "from sklearn.model_selection import train_test_split\n",
    "import pyspark\n",
    "\n",
    "\n",
    "def functionClassification(sparkDF, listOfFeatures, label):\n",
    "    sparkDF.persist(pyspark.StorageLevel.MEMORY_AND_DISK)\n",
    "    df = (sparkDF.toPandas())\n",
    "    X = (df.drop(label, axis=1))[listOfFeatures].values\n",
    "    y = df[label].values\n",
    "    X_train, X_test, y_train, y_test = train_test_split(\n",
    "        X, y, random_state=1, test_size=0.1)\n",
    "    tpotModel = TPOTClassifier(verbosity=3, n_jobs=-1, generations=10, max_time_mins=5,\n",
    "                               population_size=15)\n",
    "    tpotModel.fit(X_train, y_train)\n",
    "    display(\" Accuracy of Model : %s\" % tpotModel.score(X_test, y_test))\n",
    "    data = {'model': tpotModel,\n",
    "            'X_test': X_test,\n",
    "            'y_test': y_test,\n",
    "            'label': label,\n",
    "            'columnNames': listOfFeatures}\n",
    "    return data\n"
   ]
  },
  {
   "cell_type": "markdown",
   "metadata": {},
   "source": [
    "***READING DATAFRAME***"
   ]
  },
  {
   "cell_type": "code",
   "execution_count": null,
   "metadata": {},
   "outputs": [],
   "source": [
    "############## CREATE SPARK SESSION ############################ ENTER YOUR SPARK MASTER IP AND PORT TO CONNECT TO SERVER ################from pyspark.sql import SparkSession\n",
    "spark = SparkSession.builder.master('spark://0.0.0.0:0000').getOrCreate()\n",
    "#%run fetalhealthclassificationHooks.ipynb\n",
    "try:\n",
    "\t#sourcePreExecutionHook()\n",
    "\n",
    "\tfetalhealth = HDFSConnector.fetch(spark, \"{'url': '/FileStore/platform/Data/Health care models/fetal_health.csv', 'filename': 'fetal_health.csv', 'delimiter': ',', 'file_type': 'Delimeted', 'is_header': 'Use Header Line', 'server_url': '/numtraPlatform/NumtraPlatformV2/uploads/platform/'}\")\n",
    "\t#sourcePostExecutionHook(fetalhealth)\n",
    "\n",
    "except Exception as ex: \n",
    "\tlogging.error(ex)\n"
   ]
  },
  {
   "cell_type": "markdown",
   "metadata": {},
   "source": [
    "***TRANSFORMING DATAFRAME***"
   ]
  },
  {
   "cell_type": "code",
   "execution_count": null,
   "metadata": {},
   "outputs": [],
   "source": [
    "#%run fetalhealthclassificationHooks.ipynb\n",
    "try:\n",
    "\t#transformationPreExecutionHook()\n",
    "\n",
    "\tautofe = TransformationMain.run(fetalhealth,json.dumps( {\"FE\": [{\"transformationsData\": [{\"transformation_label\": \"novalue\"}], \"feature\": \"baseline value\", \"transformation\": [{\"transformation\": \"novalue\", \"selectedAsDefault\": 1}], \"type\": \"numeric\", \"replaceby\": \"mean\", \"selected\": \"True\", \"stats\": {\"count\": \"101\", \"mean\": \"132.03\", \"stddev\": \"9.05\", \"min\": \"112\", \"max\": \"158\", \"missing\": \"0\"}, \"updatedLabel\": \"baseline value\"}, {\"transformationsData\": [{\"transformation_label\": \"novalue\"}], \"feature\": \"accelerations\", \"type\": \"real\", \"selected\": \"True\", \"replaceby\": \"mean\", \"stats\": {\"count\": \"101\", \"mean\": \"0.0\", \"stddev\": \"0.0\", \"min\": \"0.0\", \"max\": \"0.014\", \"missing\": \"0\"}, \"transformation\": [{\"transformation\": \"novalue\", \"selectedAsDefault\": 1}], \"updatedLabel\": \"accelerations\"}, {\"transformationsData\": [{\"transformation_label\": \"novalue\"}], \"feature\": \"fetal_movement\", \"type\": \"real\", \"selected\": \"True\", \"replaceby\": \"mean\", \"stats\": {\"count\": \"101\", \"mean\": \"0.0\", \"stddev\": \"0.01\", \"min\": \"0.0\", \"max\": \"0.054\", \"missing\": \"0\"}, \"transformation\": [{\"transformation\": \"novalue\", \"selectedAsDefault\": 1}], \"updatedLabel\": \"fetal_movement\"}, {\"transformationsData\": [{\"transformation_label\": \"novalue\"}], \"feature\": \"uterine_contractions\", \"type\": \"real\", \"selected\": \"True\", \"replaceby\": \"mean\", \"stats\": {\"count\": \"101\", \"mean\": \"0.0\", \"stddev\": \"0.0\", \"min\": \"0.0\", \"max\": \"0.013\", \"missing\": \"0\"}, \"transformation\": [{\"transformation\": \"novalue\", \"selectedAsDefault\": 1}], \"updatedLabel\": \"uterine_contractions\"}, {\"transformationsData\": [{\"transformation_label\": \"novalue\"}], \"feature\": \"light_decelerations\", \"type\": \"real\", \"selected\": \"True\", \"replaceby\": \"mean\", \"stats\": {\"count\": \"101\", \"mean\": \"0.0\", \"stddev\": \"0.0\", \"min\": \"0.0\", \"max\": \"0.015\", \"missing\": \"0\"}, \"transformation\": [{\"transformation\": \"novalue\", \"selectedAsDefault\": 1}], \"updatedLabel\": \"light_decelerations\"}, {\"transformationsData\": [{\"transformation_label\": \"novalue\"}], \"feature\": \"severe_decelerations\", \"type\": \"real\", \"selected\": \"True\", \"replaceby\": \"mean\", \"stats\": {\"count\": \"101\", \"mean\": \"0.0\", \"stddev\": \"0.0\", \"min\": \"0.0\", \"max\": \"0.001\", \"missing\": \"0\"}, \"transformation\": [{\"transformation\": \"novalue\", \"selectedAsDefault\": 1}], \"updatedLabel\": \"severe_decelerations\"}, {\"transformationsData\": [{\"transformation_label\": \"novalue\"}], \"feature\": \"prolongued_decelerations\", \"type\": \"real\", \"selected\": \"True\", \"replaceby\": \"mean\", \"stats\": {\"count\": \"101\", \"mean\": \"0.0\", \"stddev\": \"0.0\", \"min\": \"0.0\", \"max\": \"0.004\", \"missing\": \"0\"}, \"transformation\": [{\"transformation\": \"novalue\", \"selectedAsDefault\": 1}], \"updatedLabel\": \"prolongued_decelerations\"}, {\"transformationsData\": [{\"transformation_label\": \"novalue\"}], \"feature\": \"abnormal_short_term_variability\", \"transformation\": [{\"transformation\": \"novalue\", \"selectedAsDefault\": 1}], \"type\": \"numeric\", \"replaceby\": \"mean\", \"selected\": \"True\", \"stats\": {\"count\": \"101\", \"mean\": \"44.89\", \"stddev\": \"17.43\", \"min\": \"14\", \"max\": \"84\", \"missing\": \"0\"}, \"updatedLabel\": \"abnormal_short_term_varia...\"}, {\"transformationsData\": [{\"transformation_label\": \"novalue\"}], \"feature\": \"mean_value_of_short_term_variability\", \"type\": \"real\", \"selected\": \"True\", \"replaceby\": \"mean\", \"stats\": {\"count\": \"101\", \"mean\": \"1.45\", \"stddev\": \"1.01\", \"min\": \"0.2\", \"max\": \"6.3\", \"missing\": \"0\"}, \"transformation\": [{\"transformation\": \"novalue\", \"selectedAsDefault\": 1}], \"updatedLabel\": \"mean_value_of_short_term_...\"}, {\"transformationsData\": [{\"transformation_label\": \"novalue\"}], \"feature\": \"percentage_of_time_with_abnormal_long_term_variability\", \"transformation\": [{\"transformation\": \"novalue\", \"selectedAsDefault\": 1}], \"type\": \"numeric\", \"replaceby\": \"mean\", \"selected\": \"True\", \"stats\": {\"count\": \"101\", \"mean\": \"7.6\", \"stddev\": \"15.71\", \"min\": \"0\", \"max\": \"81\", \"missing\": \"0\"}, \"updatedLabel\": \"percentage_of_time_with_a...\"}, {\"transformationsData\": [{\"transformation_label\": \"novalue\"}], \"feature\": \"mean_value_of_long_term_variability\", \"type\": \"real\", \"selected\": \"True\", \"replaceby\": \"mean\", \"stats\": {\"count\": \"101\", \"mean\": \"8.13\", \"stddev\": \"5.35\", \"min\": \"0.0\", \"max\": \"27.6\", \"missing\": \"0\"}, \"transformation\": [{\"transformation\": \"novalue\", \"selectedAsDefault\": 1}], \"updatedLabel\": \"mean_value_of_long_term_v...\"}, {\"transformationsData\": [{\"transformation_label\": \"novalue\"}], \"feature\": \"histogram_width\", \"transformation\": [{\"transformation\": \"novalue\", \"selectedAsDefault\": 1}], \"type\": \"numeric\", \"replaceby\": \"mean\", \"selected\": \"True\", \"stats\": {\"count\": \"101\", \"mean\": \"70.96\", \"stddev\": \"36.76\", \"min\": \"10\", \"max\": \"150\", \"missing\": \"0\"}, \"updatedLabel\": \"histogram_width\"}, {\"transformationsData\": [{\"transformation_label\": \"novalue\"}], \"feature\": \"histogram_min\", \"transformation\": [{\"transformation\": \"novalue\", \"selectedAsDefault\": 1}], \"type\": \"numeric\", \"replaceby\": \"mean\", \"selected\": \"True\", \"stats\": {\"count\": \"101\", \"mean\": \"92.1\", \"stddev\": \"28.8\", \"min\": \"50\", \"max\": \"153\", \"missing\": \"0\"}, \"updatedLabel\": \"histogram_min\"}, {\"transformationsData\": [{\"transformation_label\": \"novalue\"}], \"feature\": \"histogram_max\", \"transformation\": [{\"transformation\": \"novalue\", \"selectedAsDefault\": 1}], \"type\": \"numeric\", \"replaceby\": \"mean\", \"selected\": \"True\", \"stats\": {\"count\": \"101\", \"mean\": \"163.06\", \"stddev\": \"17.86\", \"min\": \"131\", \"max\": \"210\", \"missing\": \"0\"}, \"updatedLabel\": \"histogram_max\"}, {\"transformationsData\": [{\"transformation_label\": \"novalue\"}], \"feature\": \"histogram_number_of_peaks\", \"transformation\": [{\"transformation\": \"novalue\", \"selectedAsDefault\": 1}], \"type\": \"numeric\", \"replaceby\": \"mean\", \"selected\": \"True\", \"stats\": {\"count\": \"101\", \"mean\": \"4.08\", \"stddev\": \"2.82\", \"min\": \"0\", \"max\": \"11\", \"missing\": \"0\"}, \"updatedLabel\": \"histogram_number_of_peaks\"}, {\"transformationsData\": [{\"transformation_label\": \"novalue\"}], \"feature\": \"histogram_number_of_zeroes\", \"transformation\": [{\"transformation\": \"novalue\", \"selectedAsDefault\": 1}], \"type\": \"numeric\", \"replaceby\": \"mean\", \"selected\": \"True\", \"stats\": {\"count\": \"101\", \"mean\": \"0.33\", \"stddev\": \"0.65\", \"min\": \"0\", \"max\": \"3\", \"missing\": \"0\"}, \"updatedLabel\": \"histogram_number_of_zeroe...\"}, {\"transformationsData\": [{\"transformation_label\": \"novalue\"}], \"feature\": \"histogram_mode\", \"transformation\": [{\"transformation\": \"novalue\", \"selectedAsDefault\": 1}], \"type\": \"numeric\", \"replaceby\": \"mean\", \"selected\": \"True\", \"stats\": {\"count\": \"101\", \"mean\": \"135.34\", \"stddev\": \"18.47\", \"min\": \"67\", \"max\": \"187\", \"missing\": \"0\"}, \"updatedLabel\": \"histogram_mode\"}, {\"transformationsData\": [{\"transformation_label\": \"novalue\"}], \"feature\": \"histogram_mean\", \"transformation\": [{\"transformation\": \"novalue\", \"selectedAsDefault\": 1}], \"type\": \"numeric\", \"replaceby\": \"mean\", \"selected\": \"True\", \"stats\": {\"count\": \"101\", \"mean\": \"132.15\", \"stddev\": \"16.38\", \"min\": \"84\", \"max\": \"178\", \"missing\": \"0\"}, \"updatedLabel\": \"histogram_mean\"}, {\"transformationsData\": [{\"transformation_label\": \"novalue\"}], \"feature\": \"histogram_median\", \"transformation\": [{\"transformation\": \"novalue\", \"selectedAsDefault\": 1}], \"type\": \"numeric\", \"replaceby\": \"mean\", \"selected\": \"True\", \"stats\": {\"count\": \"101\", \"mean\": \"136.03\", \"stddev\": \"14.48\", \"min\": \"92\", \"max\": \"180\", \"missing\": \"0\"}, \"updatedLabel\": \"histogram_median\"}, {\"transformationsData\": [{\"transformation_label\": \"novalue\"}], \"feature\": \"histogram_variance\", \"transformation\": [{\"transformation\": \"novalue\", \"selectedAsDefault\": 1}], \"type\": \"numeric\", \"replaceby\": \"mean\", \"selected\": \"True\", \"stats\": {\"count\": \"101\", \"mean\": \"21.98\", \"stddev\": \"34.68\", \"min\": \"0\", \"max\": \"215\", \"missing\": \"0\"}, \"updatedLabel\": \"histogram_variance\"}, {\"transformationsData\": [{\"transformation_label\": \"novalue\"}], \"feature\": \"histogram_tendency\", \"transformation\": [{\"transformation\": \"novalue\", \"selectedAsDefault\": 1}], \"type\": \"numeric\", \"replaceby\": \"mean\", \"selected\": \"True\", \"stats\": {\"count\": \"101\", \"mean\": \"0.31\", \"stddev\": \"0.6\", \"min\": \"-1\", \"max\": \"1\", \"missing\": \"0\"}, \"updatedLabel\": \"histogram_tendency\"}, {\"transformationsData\": [{\"transformation_label\": \"novalue\"}], \"feature\": \"fetal_health\", \"transformation\": [{\"transformation\": \"novalue\", \"selectedAsDefault\": 1}], \"type\": \"numeric\", \"replaceby\": \"mean\", \"selected\": \"True\", \"stats\": {\"count\": \"101\", \"mean\": \"1.27\", \"stddev\": \"0.6\", \"min\": \"1\", \"max\": \"3\", \"missing\": \"0\"}, \"updatedLabel\": \"fetal_health\"}]}))\n",
    "\n",
    "\t#transformationPostExecutionHook(autofe)\n",
    "\n",
    "except Exception as ex: \n",
    "\tlogging.error(ex)\n"
   ]
  },
  {
   "cell_type": "markdown",
   "metadata": {},
   "source": [
    "***TRAIN MODEL***"
   ]
  },
  {
   "cell_type": "code",
   "execution_count": null,
   "metadata": {},
   "outputs": [],
   "source": [
    "#%run fetalhealthclassificationHooks.ipynb\n",
    "try:\n",
    "\t#mlPreExecutionHook()\n",
    "\n",
    "\tdataAutoML=functionClassification(autofe, [\"baseline value\", \"accelerations\", \"fetal_movement\", \"uterine_contractions\", \"light_decelerations\", \"severe_decelerations\", \"prolongued_decelerations\", \"abnormal_short_term_variability\", \"mean_value_of_short_term_variability\", \"percentage_of_time_with_abnormal_long_term_variability\", \"mean_value_of_long_term_variability\", \"histogram_width\", \"histogram_min\", \"histogram_max\", \"histogram_number_of_peaks\", \"histogram_number_of_zeroes\", \"histogram_mode\", \"histogram_mean\", \"histogram_median\", \"histogram_variance\", \"histogram_tendency\"], \"fetal_health\")\n",
    "\n",
    "\t#mlPostExecutionHook(dataAutoML)\n",
    "\n",
    "except Exception as ex: \n",
    "\tlogging.error(ex)\n"
   ]
  },
  {
   "cell_type": "markdown",
   "metadata": {},
   "source": [
    "***PREDICT ON TRAINED MODEL***"
   ]
  },
  {
   "cell_type": "code",
   "execution_count": null,
   "metadata": {},
   "outputs": [],
   "source": [
    "import pandas as pd\n",
    "import numpy as np\n",
    "import sklearn.metrics\n",
    "\n",
    "try:\n",
    "    model=dataAutoML['model']\n",
    "    X_test=dataAutoML['X_test']\n",
    "    y_test=dataAutoML['y_test']\n",
    "    label=dataAutoML['label']\n",
    "    columnNames=dataAutoML['columnNames']\n",
    "    if label in columnNames:\n",
    "        columnNames.remove(label)\n",
    "    predicted=label+\"_predicted\"\n",
    "    y_predicted=model.predict(X_test)\n",
    "    df =pd.DataFrame(X_test , columns=columnNames)\n",
    "    df[label]=y_test\n",
    "    df[predicted]=y_predicted\n",
    "    columnNames.insert(0,predicted)\n",
    "    columnNames.insert(0,label)\n",
    "    Accuracy = np.round((100 * sklearn.metrics.accuracy_score(y_true=y_test, y_pred=y_predicted)), 1)\n",
    "    F1= np.round(\n",
    "            (100 * sklearn.metrics.f1_score(y_true=y_test, y_pred=y_predicted, average=\"weighted\")), 1)\n",
    "    Precision= np.round((\n",
    "                100 * sklearn.metrics.precision_score(y_true=y_test, y_pred=y_predicted, average=\"weighted\")), 1)\n",
    "    Recall = np.round((\n",
    "                100 * sklearn.metrics.recall_score(y_true=y_test, y_pred=y_predicted, average=\"weighted\")), 1)\n",
    "    display(\" Accuracy of Prediction on test data    : %s\"%Accuracy)\n",
    "    display(\" F1 score of Prediction on test data    : %s\"%F1)\n",
    "    display(\" Precision of Prediction on test data   : %s\"%Precision)\n",
    "    display(\" Recall of Prediction on test data      : %s\"%Recall)\n",
    "    display(df.head())\n",
    "except Exception as ex:\n",
    "    logging.error(ex)\n",
    "\n"
   ]
  }
 ],
 "metadata": {},
 "nbformat": 4,
 "nbformat_minor": 2
}
